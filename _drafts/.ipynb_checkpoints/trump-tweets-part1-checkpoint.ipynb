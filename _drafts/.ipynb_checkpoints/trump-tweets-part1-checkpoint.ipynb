{
 "cells": [
  {
   "cell_type": "markdown",
   "metadata": {},
   "source": [
    "There have been several claims that many of Donald Trump's Twitter followers are fake. For example, the <a href=\"https://www.twitteraudit.com/realdonaldtrump\"  style=\"color: rgb(0,0,0)\">twitteraudit</a> service calculates that 20.8 million of Trump's 43.8 million followers are fake. Given that Twitter's API is quite friendly to use, I thought it would be fun to try to collect some data from Twitter and use some simple machine learning techniques to see if we can come up with our own estimate of how many fake followers Trump has.\n",
    "\n",
    "In this first post I will collect the data from Twitter using it's API. The next post will apply the machine learning models.\n",
    "\n",
    "I will use the <a href=\"https://www.tweepy.org\"  style=\"color: rgb(0,0,0)\">tweepy</a> module to connect to the Twitter API. The first thing we need to do is to <a href=\"https://apps.twitter.com/\" style=\"color: rgb(0,0,0)\">register</a> an app with Twitter to be able to connect to the Twitter API. When you do this you should be able to access your consumer and secret keys which you should keep private. The code below then allows you to gain authorized  access to Twitter's API. I have replaced my access codes with empty strings and you should insert your codes in here."
   ]
  },
  {
   "cell_type": "code",
   "execution_count": null,
   "metadata": {},
   "outputs": [],
   "source": [
    "# import some modules that we will use\n",
    "import datetime\n",
    "import time\n",
    "from tweepy import OAuthHandler\n",
    "from tweepy import API\n",
    "from tweepy import Cursor\n",
    "from tweepy import RateLimitError\n",
    "import csv\n",
    "import os.path\n",
    "\n",
    "# put your information into these empty strings\n",
    "consumer_key = ''\n",
    "consumer_secret = '' \n",
    "access_token = ''\n",
    "access_token_secret = ''\n",
    "\n",
    "# gain authorized access to the Twitter API\n",
    "auth = OAuthHandler(consumer_key, consumer_secret)\n",
    "auth.set_access_token(access_token, access_token_secret)\n",
    "myAPI = API(auth)\n",
    "\n",
    "# get the account ID for Donald Trump's Twitter account\n",
    "trump_account_id = myAPI.get_user('realDonaldTrump').id"
   ]
  },
  {
   "cell_type": "markdown",
   "metadata": {},
   "source": [
    "The next thing we need is a list of Trump's followers. To keep the analysis quick and simple for now I won't try to collect a list of all of Trump's followers but I will instead take a sample and see what we can extrapolate from this. The code below defines a function ``get_followers`` which takes the user ID of any (public) Twitter account, collects certain information about ``num_followers`` from that account, and stores this information in a csv file:"
   ]
  },
  {
   "cell_type": "code",
   "execution_count": null,
   "metadata": {},
   "outputs": [],
   "source": [
    "def get_followers(user_id, num_followers, output_file='followers.csv'):\n",
    "    \"\"\"Takes a user id from a Twitter account and puts information on \n",
    "    num_follower followers into a csv file.\"\"\"\n",
    "    \n",
    "    # Create csv file if it doesn't exist\n",
    "    if not os.path.exists(output_file):    \n",
    "        with open(output_file, 'w', newline='') as f:\n",
    "            writer = csv.writer(f, delimiter=',')\n",
    "            # Headings for the csv file\n",
    "            writer.writerow(['name', 'id', 'created_at', 'default_profile',\n",
    "                            'default_profile_image', 'description', \n",
    "                            'favourites_count', 'followers_count', \n",
    "                            'friends_count', 'geo_enabled', 'lang', 'location', \n",
    "                            'protected', 'screen_name', 'statuses_count', \n",
    "                            'time_zone', 'verified'])\n",
    "    \n",
    "    # Iterate through the number of followers specified and write follower \n",
    "    # information into the csv file\n",
    "    with open(output_file, 'a', newline='') as f:\n",
    "        writer = csv.writer(f, delimiter=',')\n",
    "        for follower in Cursor(myAPI.followers, id=user_id).items(num_followers):\n",
    "            writer.writerow([follower.name, follower.id_str, follower.created_at,\n",
    "                            follower.default_profile, \n",
    "                            follower.default_profile_image, \n",
    "                            follower.description, follower.favourites_count,\n",
    "                            follower.followers_count, follower.friends_count,\n",
    "                            follower.geo_enabled, follower.lang, \n",
    "                            follower.location, follower.protected, \n",
    "                            follower.screen_name, follower.statuses_count, \n",
    "                            follower.time_zone, follower.verified])"
   ]
  },
  {
   "cell_type": "markdown",
   "metadata": {},
   "source": [
    "For example, ``get_followers(user_id=100, num_followers=10, output_file='followers.csv')`` collects information on 10 followers of the account with the user ID 100 and stores this information in the ``followers.csv`` file. \n",
    "\n",
    "Next we should have a look at the data we collected for Trump's Twitter account  to make sure there are no obvious errors that could cause problems for our models later. A convenient way to examine "
   ]
  },
  {
   "cell_type": "markdown",
   "metadata": {},
   "source": [
    "![png](week.png)"
   ]
  },
  {
   "cell_type": "code",
   "execution_count": null,
   "metadata": {},
   "outputs": [],
   "source": []
  }
 ],
 "metadata": {
  "anaconda-cloud": {},
  "kernelspec": {
   "display_name": "Python [default]",
   "language": "python",
   "name": "python3"
  },
  "language_info": {
   "codemirror_mode": {
    "name": "ipython",
    "version": 3
   },
   "file_extension": ".py",
   "mimetype": "text/x-python",
   "name": "python",
   "nbconvert_exporter": "python",
   "pygments_lexer": "ipython3",
   "version": "3.5.4"
  }
 },
 "nbformat": 4,
 "nbformat_minor": 2
}
